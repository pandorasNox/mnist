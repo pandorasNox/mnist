{
 "cells": [
  {
   "cell_type": "markdown",
   "metadata": {},
   "source": [
    "# steps\n",
    "\n",
    "## 1. collect (unprocessed) data [???]\n",
    "\n",
    "## 2 process data [k8s, spark, ???]\n",
    "- build processing model\n",
    "- e.g crop, scale, cut ... etc...\n",
    "\n",
    "## 3. move processed date in understandable directory structure [k8s, s3]\n",
    "\n",
    "## 4. load data (based on expected dir structure) [python]\n",
    "\n",
    "## 5. build model [python]\n",
    "\n",
    "## 6. train model [k8s, python]\n",
    "\n",
    "## 6.1 evaluate model [included in training]\n",
    "-> repeat 1 or 2 or 5\n",
    "-> repeat 6, 7\n",
    "\n",
    "## 8 (on success) deploy model ??? (pipeline) [CI/CD, k8s]"
   ]
  },
  {
   "cell_type": "code",
   "execution_count": 2,
   "metadata": {},
   "outputs": [],
   "source": [
    "\n",
    "import torch\n",
    "import torch.nn as nn\n",
    "import torch.nn.functional as F\n",
    "import torch.optim as optim\n",
    "from torchvision import datasets, transforms\n"
   ]
  },
  {
   "cell_type": "code",
   "execution_count": 3,
   "metadata": {},
   "outputs": [],
   "source": [
    "\n",
    "class Net(nn.Module):\n",
    "    def __init__(self):\n",
    "        super(Net, self).__init__()\n",
    "        self.conv1 = nn.Conv2d(1, 20, 5, 1)\n",
    "        self.conv2 = nn.Conv2d(20, 50, 5, 1)\n",
    "        self.fc1 = nn.Linear(4*4*50, 500)\n",
    "        self.fc2 = nn.Linear(500, 10)\n",
    "\n",
    "    def forward(self, x):\n",
    "        x = F.relu(self.conv1(x))\n",
    "        x = F.max_pool2d(x, 2, 2)\n",
    "        x = F.relu(self.conv2(x))\n",
    "        x = F.max_pool2d(x, 2, 2)\n",
    "        x = x.view(-1, 4*4*50)\n",
    "        x = F.relu(self.fc1(x))\n",
    "        x = self.fc2(x)\n",
    "        return F.log_softmax(x, dim=1)\n"
   ]
  },
  {
   "cell_type": "code",
   "execution_count": 4,
   "metadata": {},
   "outputs": [],
   "source": [
    "\n",
    "def train(model, device, train_loader, optimizer, epoch, log_interval):\n",
    "    model.train()\n",
    "    for batch_idx, (data, target) in enumerate(train_loader):\n",
    "        data, target = data.to(device), target.to(device)\n",
    "        optimizer.zero_grad()\n",
    "        output = model(data)\n",
    "        loss = F.nll_loss(output, target)\n",
    "        loss.backward()\n",
    "        optimizer.step()\n",
    "        if batch_idx % log_interval == 0:\n",
    "            print('Train Epoch: {} [{}/{} ({:.0f}%)]\\tLoss: {:.6f}'.format(\n",
    "                epoch, batch_idx * len(data), len(train_loader.dataset),\n",
    "                100. * batch_idx / len(train_loader), loss.item()))\n"
   ]
  },
  {
   "cell_type": "code",
   "execution_count": 5,
   "metadata": {},
   "outputs": [],
   "source": [
    "\n",
    "def test(model, device, test_loader):\n",
    "    model.eval()\n",
    "    test_loss = 0\n",
    "    correct = 0\n",
    "    with torch.no_grad():\n",
    "        for data, target in test_loader:\n",
    "            data, target = data.to(device), target.to(device)\n",
    "            output = model(data)\n",
    "            test_loss += F.nll_loss(output, target, reduction='sum').item() # sum up batch loss\n",
    "            pred = output.max(1, keepdim=True)[1] # get the index of the max log-probability\n",
    "            correct += pred.eq(target.view_as(pred)).sum().item()\n",
    "\n",
    "    test_loss /= len(test_loader.dataset)\n",
    "\n",
    "    print('\\nTest set: Average loss: {:.4f}, Accuracy: {}/{} ({:.0f}%)\\n'.format(\n",
    "        test_loss, correct, len(test_loader.dataset),\n",
    "        100. * correct / len(test_loader.dataset)))\n"
   ]
  },
  {
   "cell_type": "code",
   "execution_count": 6,
   "metadata": {},
   "outputs": [],
   "source": [
    "\n",
    "log_interval = 64;\n",
    "batch_size = 64;\n",
    "test_batch_size = 64;\n",
    "\n",
    "use_cuda = False; #not args.no_cuda and torch.cuda.is_available()\n",
    "torch.manual_seed(1); #args.seed\n",
    "device = torch.device(\"cuda\" if use_cuda else \"cpu\");\n",
    "kwargs = {'num_workers': 1, 'pin_memory': True} if use_cuda else {};\n",
    "\n",
    "lr = 0.01;\n",
    "momentum = 0.5;\n"
   ]
  },
  {
   "cell_type": "code",
   "execution_count": 7,
   "metadata": {},
   "outputs": [],
   "source": [
    "\n",
    "train_loader = torch.utils.data.DataLoader(\n",
    "    datasets.MNIST('./data', train=True, download=True,\n",
    "                   transform=transforms.Compose([\n",
    "                       transforms.ToTensor(),\n",
    "                       transforms.Normalize((0.1307,), (0.3081,))\n",
    "                   ])),\n",
    "    batch_size=batch_size, shuffle=True, **kwargs\n",
    ")\n"
   ]
  },
  {
   "cell_type": "code",
   "execution_count": 8,
   "metadata": {},
   "outputs": [],
   "source": [
    "\n",
    "test_loader = torch.utils.data.DataLoader(\n",
    "    datasets.MNIST('./data', train=False,\n",
    "                   transform=transforms.Compose([\n",
    "                       transforms.ToTensor(),\n",
    "                       transforms.Normalize((0.1307,), (0.3081,))\n",
    "                   ])),\n",
    "    batch_size=test_batch_size, shuffle=True, **kwargs\n",
    ")\n"
   ]
  },
  {
   "cell_type": "code",
   "execution_count": 9,
   "metadata": {},
   "outputs": [],
   "source": [
    "\n",
    "model = Net().to(device);\n",
    "optimizer = optim.SGD(model.parameters(), lr=lr, momentum=momentum);\n"
   ]
  },
  {
   "cell_type": "code",
   "execution_count": 10,
   "metadata": {},
   "outputs": [
    {
     "name": "stdout",
     "output_type": "stream",
     "text": [
      "Train Epoch: 1 [0/60000 (0%)]\tLoss: 2.300039\n",
      "Train Epoch: 1 [4096/60000 (7%)]\tLoss: 1.008566\n",
      "Train Epoch: 1 [8192/60000 (14%)]\tLoss: 0.320956\n",
      "Train Epoch: 1 [12288/60000 (20%)]\tLoss: 0.242414\n",
      "Train Epoch: 1 [16384/60000 (27%)]\tLoss: 0.404084\n",
      "Train Epoch: 1 [20480/60000 (34%)]\tLoss: 0.189765\n",
      "Train Epoch: 1 [24576/60000 (41%)]\tLoss: 0.195675\n",
      "Train Epoch: 1 [28672/60000 (48%)]\tLoss: 0.216289\n",
      "Train Epoch: 1 [32768/60000 (55%)]\tLoss: 0.237201\n",
      "Train Epoch: 1 [36864/60000 (61%)]\tLoss: 0.218605\n",
      "Train Epoch: 1 [40960/60000 (68%)]\tLoss: 0.177689\n",
      "Train Epoch: 1 [45056/60000 (75%)]\tLoss: 0.147279\n",
      "Train Epoch: 1 [49152/60000 (82%)]\tLoss: 0.187277\n",
      "Train Epoch: 1 [53248/60000 (89%)]\tLoss: 0.084671\n",
      "Train Epoch: 1 [57344/60000 (96%)]\tLoss: 0.086425\n",
      "\n",
      "Test set: Average loss: 0.1011, Accuracy: 9668/10000 (97%)\n",
      "\n",
      "Train Epoch: 2 [0/60000 (0%)]\tLoss: 0.146432\n",
      "Train Epoch: 2 [4096/60000 (7%)]\tLoss: 0.044145\n",
      "Train Epoch: 2 [8192/60000 (14%)]\tLoss: 0.133362\n",
      "Train Epoch: 2 [12288/60000 (20%)]\tLoss: 0.044191\n",
      "Train Epoch: 2 [16384/60000 (27%)]\tLoss: 0.038951\n",
      "Train Epoch: 2 [20480/60000 (34%)]\tLoss: 0.074627\n",
      "Train Epoch: 2 [24576/60000 (41%)]\tLoss: 0.020683\n",
      "Train Epoch: 2 [28672/60000 (48%)]\tLoss: 0.145942\n",
      "Train Epoch: 2 [32768/60000 (55%)]\tLoss: 0.030765\n",
      "Train Epoch: 2 [36864/60000 (61%)]\tLoss: 0.171673\n",
      "Train Epoch: 2 [40960/60000 (68%)]\tLoss: 0.076033\n",
      "Train Epoch: 2 [45056/60000 (75%)]\tLoss: 0.006429\n",
      "Train Epoch: 2 [49152/60000 (82%)]\tLoss: 0.039858\n",
      "Train Epoch: 2 [53248/60000 (89%)]\tLoss: 0.040068\n",
      "Train Epoch: 2 [57344/60000 (96%)]\tLoss: 0.049011\n",
      "\n",
      "Test set: Average loss: 0.0611, Accuracy: 9829/10000 (98%)\n",
      "\n",
      "Train Epoch: 3 [0/60000 (0%)]\tLoss: 0.050782\n",
      "Train Epoch: 3 [4096/60000 (7%)]\tLoss: 0.098866\n",
      "Train Epoch: 3 [8192/60000 (14%)]\tLoss: 0.035342\n",
      "Train Epoch: 3 [12288/60000 (20%)]\tLoss: 0.108500\n",
      "Train Epoch: 3 [16384/60000 (27%)]\tLoss: 0.011001\n",
      "Train Epoch: 3 [20480/60000 (34%)]\tLoss: 0.094848\n",
      "Train Epoch: 3 [24576/60000 (41%)]\tLoss: 0.010722\n",
      "Train Epoch: 3 [28672/60000 (48%)]\tLoss: 0.087751\n",
      "Train Epoch: 3 [32768/60000 (55%)]\tLoss: 0.141094\n",
      "Train Epoch: 3 [36864/60000 (61%)]\tLoss: 0.011801\n",
      "Train Epoch: 3 [40960/60000 (68%)]\tLoss: 0.015639\n",
      "Train Epoch: 3 [45056/60000 (75%)]\tLoss: 0.053581\n",
      "Train Epoch: 3 [49152/60000 (82%)]\tLoss: 0.029030\n",
      "Train Epoch: 3 [53248/60000 (89%)]\tLoss: 0.016913\n",
      "Train Epoch: 3 [57344/60000 (96%)]\tLoss: 0.097936\n",
      "\n",
      "Test set: Average loss: 0.0561, Accuracy: 9816/10000 (98%)\n",
      "\n"
     ]
    }
   ],
   "source": [
    "\n",
    "epochs = 3\n",
    "for epoch in range(1, epochs + 1):\n",
    "    train(model, device, train_loader, optimizer, epoch, log_interval)\n",
    "    test(model, device, test_loader)\n"
   ]
  },
  {
   "cell_type": "code",
   "execution_count": 38,
   "metadata": {},
   "outputs": [
    {
     "name": "stdout",
     "output_type": "stream",
     "text": [
      "raw_prediction:\n",
      "tensor([[-1090.6654, -1225.8752,  -737.5375,  -574.5895, -1727.4468, -1275.4036,\n",
      "         -2329.6216,     0.0000, -1099.6487,  -910.4417]],\n",
      "       grad_fn=<LogSoftmaxBackward>)\n",
      "\n",
      "maxed_prediction:\n",
      "tensor([[7]])\n",
      "\n"
     ]
    }
   ],
   "source": [
    "\n",
    "single_loaded_img = test_loader.dataset.data[0]\n",
    "#print(single_loaded_img)\n",
    "single_loaded_img = single_loaded_img.to(device)\n",
    "single_loaded_img = single_loaded_img[None, None]\n",
    "#single_loaded_img = single_loaded_img.type('torch.DoubleTensor')\n",
    "single_loaded_img = single_loaded_img.type('torch.FloatTensor')\n",
    "\n",
    "\n",
    "#single_loaded_img = Variable(single_loaded_img) #depricated\n",
    "#print(single_loaded_img)\n",
    "raw_prediction = model(single_loaded_img)\n",
    "print(\"raw_prediction:\")\n",
    "print(raw_prediction)\n",
    "print(\"\")\n",
    "\n",
    "\n",
    "maxed_prediction = out_predict.max(1, keepdim=True)[1]\n",
    "print(\"maxed_prediction:\")\n",
    "print(maxed_prediction)\n",
    "print(\"\")\n",
    "\n",
    "\n",
    "def predict_image(image):\n",
    "    image_tensor = image.unsqueeze_(0)\n",
    "    image_tensor = image_tensor.unsqueeze_(0)\n",
    "    input = Variable(image_tensor)\n",
    "    input = input.to(device)\n",
    "    output = model(input)\n",
    "    #return output\n",
    "    #index = output.data.cpu().numpy().argmax()\n",
    "    #return index\n",
    "\n",
    "#out_predict = model(single_loaded_img)\n",
    "\n",
    "#out_predict = predict_image(single_loaded_img)\n"
   ]
  },
  {
   "cell_type": "code",
   "execution_count": 34,
   "metadata": {},
   "outputs": [],
   "source": [
    "import matplotlib\n",
    "import matplotlib.pyplot as plt\n",
    "import numpy as np"
   ]
  },
  {
   "cell_type": "code",
   "execution_count": 35,
   "metadata": {},
   "outputs": [
    {
     "data": {
      "image/png": "[encoded data removed]",
      "text/plain": [
       "<Figure size 432x288 with 1 Axes>"
      ]
     },
     "metadata": {},
     "output_type": "display_data"
    }
   ],
   "source": [
    "def plot_image(image):\n",
    "    \"Plot a MNIST image.\"\n",
    "    fig = plt.figure()\n",
    "    ax = fig.add_subplot(4, 1, 1)\n",
    "    ax.matshow(image, cmap = matplotlib.cm.binary)\n",
    "    plt.xticks(np.array([]))\n",
    "    plt.yticks(np.array([]))\n",
    "    plt.show()\n",
    "\n",
    "plot_image(test_loader.dataset.data[0])"
   ]
  },
  {
   "cell_type": "code",
   "execution_count": null,
   "metadata": {},
   "outputs": [],
   "source": []
  }
 ],
 "metadata": {
  "kernelspec": {
   "display_name": "Python 3",
   "language": "python",
   "name": "python3"
  },
  "language_info": {
   "codemirror_mode": {
    "name": "ipython",
    "version": 3
   },
   "file_extension": ".py",
   "mimetype": "text/x-python",
   "name": "python",
   "nbconvert_exporter": "python",
   "pygments_lexer": "ipython3",
   "version": "3.6.7"
  }
 },
 "nbformat": 4,
 "nbformat_minor": 2
}
